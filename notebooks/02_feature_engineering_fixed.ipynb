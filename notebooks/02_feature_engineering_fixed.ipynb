{
 "cells": [
  {
   "cell_type": "markdown",
   "id": "a95aea1a",
   "metadata": {},
   "source": [
    "# Feature Engineering para Detecção de Fraudes\n",
    "\n",
    "Este notebook implementa a criação de features para o modelo de detecção de fraudes em transações de cartão de crédito."
   ]
  },
  {
   "cell_type": "code",
   "execution_count": 1,
   "id": "4ee241cd",
   "metadata": {},
   "outputs": [],
   "source": [
    "# 1. Setup e Importações\n",
    "import pandas as pd\n",
    "import numpy as np\n",
    "import matplotlib.pyplot as plt\n",
    "import seaborn as sns\n",
    "from datetime import datetime, timedelta\n",
    "import os\n",
    "import json\n",
    "import pathlib\n",
    "import warnings\n",
    "warnings.filterwarnings('ignore')\n",
    "\n",
    "# Configurar estilo de plotagem\n",
    "plt.style.use('seaborn-v0_8-darkgrid')\n",
    "sns.set_palette(\"husl\")\n",
    "\n",
    "# Obter o caminho da raiz do projeto\n",
    "current_path = pathlib.Path().absolute()\n",
    "if current_path.name == 'notebooks':\n",
    "    project_root = current_path.parent\n",
    "else:\n",
    "    project_root = current_path\n",
    "\n",
    "# Definir caminhos para as pastas de dados\n",
    "RAW_DATA_DIR = os.path.join(project_root, 'data', 'raw')\n",
    "PROCESSED_DATA_DIR = os.path.join(project_root, 'data', 'processed')\n",
    "\n",
    "# Garantir que as pastas existam\n",
    "os.makedirs(RAW_DATA_DIR, exist_ok=True)\n",
    "os.makedirs(PROCESSED_DATA_DIR, exist_ok=True)"
   ]
  },
  {
   "cell_type": "code",
   "execution_count": 2,
   "id": "b5cd9c2c",
   "metadata": {},
   "outputs": [
    {
     "name": "stdout",
     "output_type": "stream",
     "text": [
      "Carregando dados de transações...\n",
      "Carregados 10,000 transações\n",
      "Insights da EDA carregados com sucesso!\n"
     ]
    }
   ],
   "source": [
    "# 2. Carregar Dados e Insights da EDA\n",
    "print(\"Carregando dados de transações...\")\n",
    "transactions_file = os.path.join(RAW_DATA_DIR, 'transactions_2024.parquet')\n",
    "df = pd.read_parquet(transactions_file)\n",
    "print(f\"Carregados {len(df):,} transações\")\n",
    "\n",
    "# Carregar insights da EDA\n",
    "insights_file = os.path.join(PROCESSED_DATA_DIR, 'eda_insights.json')\n",
    "with open(insights_file, 'r') as f:\n",
    "    insights = json.load(f)\n",
    "print(\"Insights da EDA carregados com sucesso!\")"
   ]
  },
  {
   "cell_type": "code",
   "execution_count": 3,
   "id": "a80eb2df",
   "metadata": {},
   "outputs": [],
   "source": [
    "# Função corrigida para contar transações nas últimas 24 horas\n",
    "def count_txns_last_24h(group):\n",
    "    \"\"\"\n",
    "    Conta quantas transações foram realizadas nas últimas 24 horas para cada transação\n",
    "    \"\"\"\n",
    "    # Garantir que timestamp seja datetime\n",
    "    if not pd.api.types.is_datetime64_any_dtype(group['timestamp']):\n",
    "        group['timestamp'] = pd.to_datetime(group['timestamp'])\n",
    "    \n",
    "    # Ordenar transações por timestamp\n",
    "    group = group.sort_values('timestamp')\n",
    "    timestamps = group['timestamp'].tolist()\n",
    "    counts = []\n",
    "    \n",
    "    for i, ts in enumerate(timestamps):\n",
    "        # Correção: Calcular a diferença de tempo para cada transação anterior\n",
    "        count = 0\n",
    "        for prev_ts in timestamps[:i]:\n",
    "            # Verificar se a transação anterior ocorreu nas últimas 24 horas\n",
    "            if isinstance(ts, datetime) and isinstance(prev_ts, datetime):\n",
    "                if (ts - prev_ts) <= timedelta(hours=24):\n",
    "                    count += 1\n",
    "        counts.append(count)\n",
    "    \n",
    "    return counts"
   ]
  },
  {
   "cell_type": "code",
   "execution_count": 4,
   "id": "a6bbfe75",
   "metadata": {},
   "outputs": [
    {
     "name": "stdout",
     "output_type": "stream",
     "text": [
      "\n",
      "=== Criando Features Temporais ===\n"
     ]
    },
    {
     "data": {
      "image/png": "[encoded data removed]",
      "text/plain": [
       "<Figure size 1000x600 with 1 Axes>"
      ]
     },
     "metadata": {},
     "output_type": "display_data"
    }
   ],
   "source": [
    "# 3. Feature Engineering\n",
    "print(\"\\n=== Criando Features Temporais ===\")\n",
    "\n",
    "# Converter timestamp para datetime se necessário\n",
    "if not pd.api.types.is_datetime64_any_dtype(df['timestamp']):\n",
    "    df['timestamp'] = pd.to_datetime(df['timestamp'])\n",
    "\n",
    "# Extrair features temporais\n",
    "df['hour_of_day'] = df['timestamp'].dt.hour\n",
    "df['day_of_week'] = df['timestamp'].dt.dayofweek\n",
    "df['is_weekend'] = df['day_of_week'].isin([5, 6]).astype(int)\n",
    "\n",
    "# Visualizar distribuição de transações por hora do dia\n",
    "plt.figure(figsize=(10, 6))\n",
    "sns.countplot(x='hour_of_day', data=df)\n",
    "plt.title('Distribuição de Transações por Hora do Dia')\n",
    "plt.xlabel('Hora do Dia')\n",
    "plt.ylabel('Número de Transações')\n",
    "plt.tight_layout()\n",
    "plt.show()"
   ]
  },
  {
   "cell_type": "code",
   "execution_count": 5,
   "id": "e9953b71",
   "metadata": {},
   "outputs": [
    {
     "name": "stdout",
     "output_type": "stream",
     "text": [
      "\n",
      "=== Criando Features de Velocidade ===\n",
      "Calculando transações nas últimas 24 horas por cliente...\n"
     ]
    }
   ],
   "source": [
    "# Features de Velocidade\n",
    "print(\"\\n=== Criando Features de Velocidade ===\")\n",
    "print(\"Calculando transações nas últimas 24 horas por cliente...\")\n",
    "\n",
    "# Aplicar a função por cliente\n",
    "df['txn_count_24h'] = df.groupby('customer_id').apply(\n",
    "    lambda x: pd.Series(count_txns_last_24h(x), index=x.index)\n",
    ").reset_index(level=0, drop=True)\n",
    "\n",
    "# Feature de alta velocidade\n",
    "df['high_velocity'] = (df['txn_count_24h'] > insights['velocity_threshold']).astype(int)"
   ]
  },
  {
   "cell_type": "code",
   "execution_count": 8,
   "id": "a469c9f4",
   "metadata": {},
   "outputs": [
    {
     "name": "stdout",
     "output_type": "stream",
     "text": [
      "\n",
      "=== Criando Features de Valor ===\n",
      "Usando threshold de z-score para anomalias: 3.0\n"
     ]
    }
   ],
   "source": [
    "# 4. Features de Valor\n",
    "print(\"\\n=== Criando Features de Valor ===\")\n",
    "\n",
    "# Calcular estatísticas de valor por cliente\n",
    "customer_stats = df.groupby('customer_id')['amount'].agg(['mean', 'std', 'max']).reset_index()\n",
    "customer_stats.columns = ['customer_id', 'avg_amount', 'std_amount', 'max_amount']\n",
    "\n",
    "# Mesclar de volta ao dataframe principal\n",
    "df = pd.merge(df, customer_stats, on='customer_id', how='left')\n",
    "\n",
    "# Criar feature de valor anômalo\n",
    "df['amount_zscore'] = df.groupby('customer_id')['amount'].transform(\n",
    "    lambda x: (x - x.mean()) / x.std() if len(x) > 1 and x.std() > 0 else 0\n",
    ")\n",
    "\n",
    "# Usar o valor 3.0 como threshold padrão para z-score se não estiver definido nos insights\n",
    "amount_zscore_threshold = insights.get('amount_zscore_threshold', 3.0)\n",
    "print(f\"Usando threshold de z-score para anomalias: {amount_zscore_threshold}\")\n",
    "df['is_amount_anomaly'] = (abs(df['amount_zscore']) > amount_zscore_threshold).astype(int)"
   ]
  },
  {
   "cell_type": "code",
   "execution_count": 10,
   "id": "a2cac076",
   "metadata": {},
   "outputs": [
    {
     "name": "stdout",
     "output_type": "stream",
     "text": [
      "\n",
      "Colunas disponíveis no DataFrame:\n",
      "['transaction_id', 'customer_id', 'merchant_id', 'timestamp', 'amount', 'is_fraud', 'hour_of_day', 'day_of_week', 'is_weekend', 'txn_count_24h', 'high_velocity', 'avg_amount_x', 'std_amount_x', 'max_amount_x', 'amount_zscore', 'avg_amount_y', 'std_amount_y', 'max_amount_y', 'is_amount_anomaly']\n",
      "\n",
      "Possíveis colunas de localização:\n",
      "[]\n"
     ]
    }
   ],
   "source": [
    "# Verificar as colunas disponíveis\n",
    "print(\"\\nColunas disponíveis no DataFrame:\")\n",
    "print(df.columns.tolist())\n",
    "\n",
    "# Verificar se temos dados de localização em outro formato\n",
    "# Por exemplo, talvez os dados de localização estejam em colunas com nomes diferentes\n",
    "location_cols = [col for col in df.columns if 'lat' in col.lower() or 'lon' in col.lower() or 'coord' in col.lower()]\n",
    "print(\"\\nPossíveis colunas de localização:\")\n",
    "print(location_cols)"
   ]
  },
  {
   "cell_type": "code",
   "execution_count": 14,
   "id": "ace184a5",
   "metadata": {},
   "outputs": [
    {
     "name": "stdout",
     "output_type": "stream",
     "text": [
      "\n",
      "=== Criando Features de Localização ===\n",
      "Verificando colunas de localização...\n",
      "Colunas de localização (latitude, longitude) não encontradas no DataFrame.\n",
      "Pulando o cálculo de features de localização.\n"
     ]
    }
   ],
   "source": [
    "# 5. Features de Localização\n",
    "print(\"\\n=== Criando Features de Localização ===\")\n",
    "\n",
    "# Verificar se as colunas de localização existem\n",
    "print(\"Verificando colunas de localização...\")\n",
    "location_columns_exist = all(col in df.columns for col in ['latitude', 'longitude'])\n",
    "\n",
    "if not location_columns_exist:\n",
    "    print(\"Colunas de localização (latitude, longitude) não encontradas no DataFrame.\")\n",
    "    print(\"Pulando o cálculo de features de localização.\")\n",
    "    \n",
    "    # Adicionar colunas vazias para manter a consistência\n",
    "    df['distance_from_prev'] = 0.0\n",
    "    df['time_since_prev'] = pd.Timedelta(seconds=0)\n",
    "    df['speed'] = 0.0\n",
    "    df['impossible_travel'] = 0\n",
    "else:\n",
    "    # Calcular distância entre transações consecutivas (simplificado)\n",
    "    def calculate_distance_features(group):\n",
    "        group = group.sort_values('timestamp')\n",
    "        \n",
    "        # Inicializar colunas\n",
    "        group['distance_from_prev'] = 0.0\n",
    "        group['time_since_prev'] = pd.Timedelta(seconds=0)\n",
    "        group['speed'] = 0.0\n",
    "        \n",
    "        # Calcular para cada transação após a primeira\n",
    "        for i in range(1, len(group)):\n",
    "            # Distância em km (simplificada usando coordenadas cartesianas)\n",
    "            lat1, lon1 = group.iloc[i-1]['latitude'], group.iloc[i-1]['longitude']\n",
    "            lat2, lon2 = group.iloc[i]['latitude'], group.iloc[i]['longitude']\n",
    "            \n",
    "            # Distância euclidiana aproximada (para simplificar)\n",
    "            dist = np.sqrt((lat2 - lat1)**2 + (lon2 - lon1)**2) * 111  # 1 grau ≈ 111 km\n",
    "            group.iloc[i, group.columns.get_loc('distance_from_prev')] = dist\n",
    "            \n",
    "            # Tempo desde a transação anterior\n",
    "            time_diff = group.iloc[i]['timestamp'] - group.iloc[i-1]['timestamp']\n",
    "            group.iloc[i, group.columns.get_loc('time_since_prev')] = time_diff\n",
    "            \n",
    "            # Velocidade em km/h\n",
    "            hours = time_diff.total_seconds() / 3600\n",
    "            if hours > 0:\n",
    "                speed = dist / hours\n",
    "                group.iloc[i, group.columns.get_loc('speed')] = speed\n",
    "        \n",
    "        return group\n",
    "\n",
    "    # Aplicar função por cliente\n",
    "    print(\"Calculando features de distância e velocidade...\")\n",
    "    df = df.groupby('customer_id').apply(calculate_distance_features).reset_index(drop=True)\n",
    "    \n",
    "    # Identificar transações com velocidade impossível\n",
    "    max_possible_speed = insights.get('max_possible_speed', 1000)  # Valor padrão se não existir\n",
    "    df['impossible_travel'] = (df['speed'] > max_possible_speed).astype(int)"
   ]
  },
  {
   "cell_type": "code",
   "execution_count": 16,
   "id": "e8d0f38d",
   "metadata": {},
   "outputs": [
    {
     "name": "stdout",
     "output_type": "stream",
     "text": [
      "\n",
      "=== Salvando Dataset com Features ===\n",
      "Verificando colunas duplicadas...\n",
      "Encontradas colunas duplicadas: {'std_amount', 'max_amount', 'avg_amount'}\n",
      "Renomeando coluna duplicada: avg_amount -> avg_amount_1\n",
      "Renomeando coluna duplicada: std_amount -> std_amount_1\n",
      "Renomeando coluna duplicada: max_amount -> max_amount_1\n",
      "Colunas duplicadas resolvidas.\n",
      "Dataset salvo em /home/ricardo/Projects/personal-projects/github/credit-risk-ml/data/processed/transactions_features.parquet\n",
      "Total de features criadas: 16\n"
     ]
    }
   ],
   "source": [
    "# 6. Salvar Dataset Processado\n",
    "print(\"\\n=== Salvando Dataset com Features ===\")\n",
    "\n",
    "# Verificar e corrigir colunas duplicadas\n",
    "print(\"Verificando colunas duplicadas...\")\n",
    "columns_list = df.columns.tolist()\n",
    "duplicate_columns = set([col for col in columns_list if columns_list.count(col) > 1])\n",
    "\n",
    "if duplicate_columns:\n",
    "    print(f\"Encontradas colunas duplicadas: {duplicate_columns}\")\n",
    "    \n",
    "    # Renomear colunas duplicadas\n",
    "    new_columns = []\n",
    "    seen_columns = set()\n",
    "    \n",
    "    for i, col in enumerate(df.columns):\n",
    "        if col in seen_columns:\n",
    "            # Adicionar sufixo para colunas duplicadas\n",
    "            count = 1\n",
    "            new_col = f\"{col}_{count}\"\n",
    "            while new_col in seen_columns:\n",
    "                count += 1\n",
    "                new_col = f\"{col}_{count}\"\n",
    "            print(f\"Renomeando coluna duplicada: {col} -> {new_col}\")\n",
    "            new_columns.append(new_col)\n",
    "        else:\n",
    "            new_columns.append(col)\n",
    "            seen_columns.add(col)\n",
    "    \n",
    "    # Aplicar novos nomes de colunas\n",
    "    df.columns = new_columns\n",
    "    print(\"Colunas duplicadas resolvidas.\")\n",
    "\n",
    "# Salvar o DataFrame\n",
    "output_file = os.path.join(PROCESSED_DATA_DIR, 'transactions_features.parquet')\n",
    "df.to_parquet(output_file)\n",
    "print(f\"Dataset salvo em {output_file}\")\n",
    "print(f\"Total de features criadas: {df.shape[1] - 7}\")  # Subtrair as colunas originais"
   ]
  },
  {
   "cell_type": "code",
   "execution_count": 18,
   "id": "a56e86d2",
   "metadata": {},
   "outputs": [
    {
     "name": "stdout",
     "output_type": "stream",
     "text": [
      "\n",
      "Primeiras linhas do dataset com as novas features:\n",
      "  transaction_id customer_id merchant_id           timestamp      amount  \\\n",
      "0     TX00000000       C0643       M0029 2024-04-12 23:00:00  125.625688   \n",
      "1     TX00000001       C0360       M0019 2024-04-02 18:00:00    4.768767   \n",
      "2     TX00000002       C0540       M0073 2024-01-15 22:00:00  318.540350   \n",
      "3     TX00000003       C0811       M0138 2024-04-16 11:00:00   95.200950   \n",
      "4     TX00000004       C0609       M0101 2024-03-12 16:00:00  237.634943   \n",
      "\n",
      "   is_fraud  hour_of_day  day_of_week  is_weekend  txn_count_24h  ...  \\\n",
      "0         0           23            4           0              0  ...   \n",
      "1         0           18            1           0              0  ...   \n",
      "2         0           22            0           0              0  ...   \n",
      "3         0           11            1           0              0  ...   \n",
      "4         0           16            1           0              0  ...   \n",
      "\n",
      "    max_amount  amount_zscore  avg_amount_1  std_amount_1  max_amount_1  \\\n",
      "0  1162.102896      -0.440356    316.348019    433.109661   1162.102896   \n",
      "1  3796.578667      -0.763512    749.548206    975.465725   3796.578667   \n",
      "2  1261.104493      -0.475444    471.828689    322.411134   1261.104493   \n",
      "3  1926.429046      -0.579081    607.561225    884.782164   1926.429046   \n",
      "4  1056.610833      -0.400759    382.682883    361.933359   1056.610833   \n",
      "\n",
      "   is_amount_anomaly  distance_from_prev  time_since_prev  speed  \\\n",
      "0                  0                 0.0           0 days    0.0   \n",
      "1                  0                 0.0           0 days    0.0   \n",
      "2                  0                 0.0           0 days    0.0   \n",
      "3                  0                 0.0           0 days    0.0   \n",
      "4                  0                 0.0           0 days    0.0   \n",
      "\n",
      "   impossible_travel  \n",
      "0                  0  \n",
      "1                  0  \n",
      "2                  0  \n",
      "3                  0  \n",
      "4                  0  \n",
      "\n",
      "[5 rows x 23 columns]\n",
      "\n",
      "Resumo das features criadas com nomes reais:\n",
      "1. Features Temporais: hour_of_day, day_of_week, is_weekend\n",
      "2. Features de Velocidade: txn_count_24h, high_velocity\n",
      "3. Features de Valor: amount, avg_amount, std_amount, max_amount, amount_zscore, avg_amount_1, std_amount_1, max_amount_1, is_amount_anomaly\n",
      "4. Features de Localização: distance_from_prev, time_since_prev, speed, impossible_travel\n",
      "\n",
      "Todas as colunas no DataFrame final:\n",
      "['transaction_id', 'customer_id', 'merchant_id', 'timestamp', 'amount', 'is_fraud', 'hour_of_day', 'day_of_week', 'is_weekend', 'txn_count_24h', 'high_velocity', 'avg_amount', 'std_amount', 'max_amount', 'amount_zscore', 'avg_amount_1', 'std_amount_1', 'max_amount_1', 'is_amount_anomaly', 'distance_from_prev', 'time_since_prev', 'speed', 'impossible_travel']\n"
     ]
    }
   ],
   "source": [
    "# Mostrar as primeiras linhas do dataset com as novas features\n",
    "print(\"\\nPrimeiras linhas do dataset com as novas features:\")\n",
    "print(df.head())\n",
    "\n",
    "# Obter os nomes reais das colunas para o resumo\n",
    "temporal_features = [col for col in df.columns if col in ['hour_of_day', 'day_of_week', 'is_weekend']]\n",
    "velocity_features = [col for col in df.columns if col in ['txn_count_24h', 'high_velocity']]\n",
    "value_features = [col for col in df.columns if 'amount' in col.lower() or col == 'is_amount_anomaly']\n",
    "location_features = [col for col in df.columns if col in ['distance_from_prev', 'time_since_prev', 'speed', 'impossible_travel']]\n",
    "\n",
    "# Resumo das features criadas\n",
    "print(\"\\nResumo das features criadas com nomes reais:\")\n",
    "print(f\"1. Features Temporais: {', '.join(temporal_features)}\")\n",
    "print(f\"2. Features de Velocidade: {', '.join(velocity_features)}\")\n",
    "print(f\"3. Features de Valor: {', '.join(value_features)}\")\n",
    "print(f\"4. Features de Localização: {', '.join(location_features)}\")\n",
    "\n",
    "# Mostrar todas as colunas para referência\n",
    "print(\"\\nTodas as colunas no DataFrame final:\")\n",
    "print(df.columns.tolist())"
   ]
  }
 ],
 "metadata": {
  "kernelspec": {
   "display_name": "venv",
   "language": "python",
   "name": "python3"
  },
  "language_info": {
   "codemirror_mode": {
    "name": "ipython",
    "version": 3
   },
   "file_extension": ".py",
   "mimetype": "text/x-python",
   "name": "python",
   "nbconvert_exporter": "python",
   "pygments_lexer": "ipython3",
   "version": "3.12.3"
  }
 },
 "nbformat": 4,
 "nbformat_minor": 5
}
